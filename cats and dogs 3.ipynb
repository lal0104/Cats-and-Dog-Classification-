{
 "cells": [
  {
   "cell_type": "code",
   "execution_count": 24,
   "id": "a017b23b",
   "metadata": {},
   "outputs": [
    {
     "name": "stdout",
     "output_type": "stream",
     "text": [
      "WARNING:tensorflow:6 out of the last 6 calls to <function Model.make_predict_function.<locals>.predict_function at 0x000001FBD1912CB0> triggered tf.function retracing. Tracing is expensive and the excessive number of tracings could be due to (1) creating @tf.function repeatedly in a loop, (2) passing tensors with different shapes, (3) passing Python objects instead of tensors. For (1), please define your @tf.function outside of the loop. For (2), @tf.function has reduce_retracing=True option that can avoid unnecessary retracing. For (3), please refer to https://www.tensorflow.org/guide/function#controlling_retracing and https://www.tensorflow.org/api_docs/python/tf/function for  more details.\n",
      "1/1 [==============================] - 0s 71ms/step\n",
      "Cat\n"
     ]
    }
   ],
   "source": [
    "import cv2\n",
    "import tensorflow as tf\n",
    "\n",
    "CATEGORIES = [\"Dog\", \"Cat\"]\n",
    "\n",
    "def prepare(filepath):\n",
    "    IMG_SIZE = 100\n",
    "    img_array = cv2.imread(filepath, cv2.IMREAD_GRAYSCALE)\n",
    "    new_array = cv2.resize(img_array, (IMG_SIZE,IMG_SIZE))\n",
    "    return new_array.reshape(-1, IMG_SIZE,IMG_SIZE,1)\n",
    "\n",
    "model = tf.keras.models.load_model(\"Cats-vs-dogs-CNN-64x2.model\")\n",
    "prediction = model.predict([prepare(r\"C:\\Users\\HARSHA LAL\\Downloads\\360_F_266724172_Iy8gdKgMa7XmrhYYxLCxyhx6J7070Pr8.jpg\")])\n",
    "print(CATEGORIES[int (prediction[0][0])])"
   ]
  },
  {
   "cell_type": "code",
   "execution_count": 25,
   "id": "23f86239",
   "metadata": {},
   "outputs": [
    {
     "name": "stdout",
     "output_type": "stream",
     "text": [
      "1/1 [==============================] - 0s 28ms/step\n",
      "Dog\n"
     ]
    }
   ],
   "source": [
    "prediction = model.predict([prepare(r\"C:\\Users\\HARSHA LAL\\Downloads\\dog.jpg\")])\n",
    "print(CATEGORIES[int (prediction[0][0])])"
   ]
  },
  {
   "cell_type": "code",
   "execution_count": 26,
   "id": "b59a5741",
   "metadata": {},
   "outputs": [
    {
     "name": "stdout",
     "output_type": "stream",
     "text": [
      "1/1 [==============================] - 0s 25ms/step\n",
      "Cat\n"
     ]
    }
   ],
   "source": [
    "prediction = model.predict([prepare(r\"C:\\Users\\HARSHA LAL\\Downloads\\360_F_266724172_Iy8gdKgMa7XmrhYYxLCxyhx6J7070Pr8.jpg\")])\n",
    "print(CATEGORIES[int (prediction[0][0])])"
   ]
  },
  {
   "cell_type": "code",
   "execution_count": null,
   "id": "8d085a2a",
   "metadata": {},
   "outputs": [],
   "source": []
  }
 ],
 "metadata": {
  "kernelspec": {
   "display_name": "Python 3 (ipykernel)",
   "language": "python",
   "name": "python3"
  },
  "language_info": {
   "codemirror_mode": {
    "name": "ipython",
    "version": 3
   },
   "file_extension": ".py",
   "mimetype": "text/x-python",
   "name": "python",
   "nbconvert_exporter": "python",
   "pygments_lexer": "ipython3",
   "version": "3.10.11"
  }
 },
 "nbformat": 4,
 "nbformat_minor": 5
}
